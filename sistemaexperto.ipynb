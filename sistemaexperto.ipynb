{
  "nbformat": 4,
  "nbformat_minor": 0,
  "metadata": {
    "colab": {
      "name": "sistemaexperto.ipynb",
      "provenance": [],
      "collapsed_sections": []
    },
    "kernelspec": {
      "name": "python3",
      "display_name": "Python 3"
    },
    "language_info": {
      "name": "python"
    }
  },
  "cells": [
    {
      "cell_type": "code",
      "metadata": {
        "id": "TNq_f12yFQY-"
      },
      "source": [
        "\n"
      ],
      "execution_count": 6,
      "outputs": []
    },
    {
      "cell_type": "code",
      "metadata": {
        "colab": {
          "base_uri": "https://localhost:8080/"
        },
        "id": "yhJYjZMoGYMu",
        "outputId": "b7418130-d6c2-44b9-d05f-3ab0b00d3261"
      },
      "source": [
        "def sistema_experto_basico():\n",
        "  pause = int(input(\"Desea utilizar el sistema experto? SI = 0 NO = 1\"))\n",
        "  sintomas_gripa = [\"friebre\",\"tos\",\"malestar\"]\n",
        "  sintomas_faringitis = [\"dolor_garganta\",\"malestar\"]\n",
        "  faringitis=0\n",
        "  gripa=0\n",
        "  while(pause == 0):\n",
        "    a = input(\"Que sintoma tiene?\")\n",
        "    if(a in sintomas_gripa and a in sintomas_faringitis):\n",
        "      gripa +=1\n",
        "      faringitis +=1 \n",
        "    elif(a in sintomas_faringitis):\n",
        "      faringitis +=1\n",
        "    elif(a in sintomas_gripa):\n",
        "      gripa +=1\n",
        "    else:\n",
        "      print(\"no escribio ninguno de los sintomas permitidos\")\n",
        "    pause = int(input(\"Desea utilizar de nuevo el sistema experto? SI = 0 NO = 1\")) \n",
        "\n",
        "  if(gripa > faringitis):\n",
        "    print(\"tiene gripa\")\n",
        "  elif(faringitis > gripa):\n",
        "    print(\"tiene faringitis\")  \n",
        "  else:\n",
        "    print(\"no se puede identificar el sintoma\")\n",
        "\n",
        "sistema_experto_basico()\n",
        "    "
      ],
      "execution_count": 23,
      "outputs": [
        {
          "output_type": "stream",
          "name": "stdout",
          "text": [
            "Desea utilizar el sistema experto? SI = 0 NO = 10\n",
            "Que sintoma tiene?tos\n",
            "Desea utilizar de nuevo el sistema experto? SI = 0 NO = 10\n",
            "Que sintoma tiene?fiebre\n",
            "no escribio ninguno de los sintomas permitidos\n",
            "Desea utilizar de nuevo el sistema experto? SI = 0 NO = 10\n",
            "Que sintoma tiene?friebre\n",
            "Desea utilizar de nuevo el sistema experto? SI = 0 NO = 11\n",
            "tiene gripa\n"
          ]
        }
      ]
    }
  ]
}